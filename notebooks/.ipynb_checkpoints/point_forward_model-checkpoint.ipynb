{
 "cells": [
  {
   "cell_type": "code",
   "execution_count": 8,
   "id": "7369a4ea",
   "metadata": {},
   "outputs": [],
   "source": [
    "import numpy as np\n",
    "import matplotlib.pyplot as plt"
   ]
  },
  {
   "cell_type": "code",
   "execution_count": 13,
   "id": "adb1e305",
   "metadata": {},
   "outputs": [],
   "source": [
    "class PointLensModel:\n",
    "    def __init__(self, f0, t0, y, td):\n",
    "        \"\"\"\n",
    "        f0 is the base flux\n",
    "        t0 is the time at which the lensing event happens\n",
    "        y is the maximal flux \n",
    "        td is the duration of the event\n",
    "        \"\"\"\n",
    "        self.f0 = f0\n",
    "        self.t0 = t0\n",
    "        self.y = y\n",
    "        self.td = td\n",
    "    \n",
    "    def compute_angles(self, ts):\n",
    "        return np.sqrt(((ts-self.t0)/self.td)**2 + self.y**2)\n",
    "                       \n",
    "    def compute_magnification(angle_ratios):\n",
    "        return (angle_ratios**2 + 2)/(angle_ratios*np.sqrt(angle_ratios**2 + 4))\n",
    "    \n",
    "    def compute_fluxes(self, ts):\n",
    "        angles = self.compute_angles(ts)\n",
    "        fluxes = PointLensModel.compute_magnification(angles)*self.f0\n",
    "        return fluxes\n",
    "    \n",
    "    def plot_range(self, st, et, counts = 100):\n",
    "        ts = np.linspace(st, et, counts)\n",
    "        fluxes = self.compute_fluxes(ts)\n",
    "        plt.plot(ts, fluxes)\n",
    "        plt.show()\n",
    "    \n",
    "        "
   ]
  },
  {
   "cell_type": "code",
   "execution_count": 37,
   "id": "2766e5b0",
   "metadata": {},
   "outputs": [],
   "source": [
    "model = PointLensModel(1, 2, 0.9, 2)"
   ]
  },
  {
   "cell_type": "code",
   "execution_count": 38,
   "id": "fd055367",
   "metadata": {},
   "outputs": [
    {
     "data": {
      "image/png": "[encoded data removed]",
      "text/plain": [
       "<Figure size 432x288 with 1 Axes>"
      ]
     },
     "metadata": {
      "needs_background": "light"
     },
     "output_type": "display_data"
    }
   ],
   "source": [
    "model.plot_range(-3, 3)"
   ]
  },
  {
   "cell_type": "code",
   "execution_count": null,
   "id": "b33c2593",
   "metadata": {},
   "outputs": [],
   "source": []
  }
 ],
 "metadata": {
  "kernelspec": {
   "display_name": "Python 3 (ipykernel)",
   "language": "python",
   "name": "python3"
  },
  "language_info": {
   "codemirror_mode": {
    "name": "ipython",
    "version": 3
   },
   "file_extension": ".py",
   "mimetype": "text/x-python",
   "name": "python",
   "nbconvert_exporter": "python",
   "pygments_lexer": "ipython3",
   "version": "3.9.10"
  }
 },
 "nbformat": 4,
 "nbformat_minor": 5
}
