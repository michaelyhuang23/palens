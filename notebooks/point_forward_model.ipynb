{
 "cells": [
  {
   "cell_type": "code",
   "execution_count": 12,
   "id": "7369a4ea",
   "metadata": {},
   "outputs": [],
   "source": [
    "import numpy as np\n",
    "import matplotlib.pyplot as plt\n",
    "from scipy.optimize import curve_fit, minimize"
   ]
  },
  {
   "cell_type": "code",
   "execution_count": 26,
   "id": "adb1e305",
   "metadata": {},
   "outputs": [],
   "source": [
    "\n",
    "class PointLensModel:\n",
    "    def __init__(self, f0, t0, td, y):\n",
    "        \"\"\"\n",
    "        f0 is the base flux\n",
    "        t0 is the time at which the lensing event happens\n",
    "        y is the min distance expressed in units of einstein radius \n",
    "        td is the duration of the event\n",
    "        \"\"\"\n",
    "        self.f0 = f0\n",
    "        self.t0 = t0\n",
    "        self.td = td\n",
    "        self.y = y\n",
    "        \n",
    "\n",
    "    def compute_angles_fn(ts, t0, td, y):\n",
    "        return np.sqrt(((ts-t0)/td)**2 + y**2)\n",
    "                       \n",
    "    def compute_magnification_fn(angle_ratios):\n",
    "        return (angle_ratios**2 + 2)/(angle_ratios*np.sqrt(angle_ratios**2 + 4))\n",
    "\n",
    "    def compute_fluxes_fn(ts, f0, t0, td, y):\n",
    "        angles = PointLensModel.compute_angles_fn(ts, t0, td, y)\n",
    "        fluxes = PointLensModel.compute_magnification_fn(angles)*f0\n",
    "        return fluxes\n",
    "    \n",
    "    def compute_L2_fn(pfluxes, fluxes):\n",
    "        return np.mean((pfluxes - fluxes)**2)\n",
    "    \n",
    "    def compute_weighted_L2_fn(pfluxes, fluxes, errors):\n",
    "        return np.mean(((pfluxes - fluxes)/errors)**2)\n",
    "    \n",
    "    def model_L2(self, params, *args):\n",
    "        f0 = params[0]\n",
    "        t0 = params[1]\n",
    "        td = params[2]\n",
    "        y = params[3]\n",
    "        ts = args[0]\n",
    "        fluxes = args[1]\n",
    "        return self.compute_L2_fn(PointLensModel.compute_fluxes_fn(ts, f0, t0, td, y), fluxes)\n",
    "    \n",
    "    def model_weighted_L2(params, *args):\n",
    "        f0 = params[0]\n",
    "        t0 = params[1]\n",
    "        td = params[2]\n",
    "        y = params[3]\n",
    "        ts = args[0]\n",
    "        fluxes = args[1]\n",
    "        errors = args[2]\n",
    "        return PointLensModel.compute_weighted_L2_fn(PointLensModel.compute_fluxes_fn(ts, f0, t0, td, y), fluxes, errors)\n",
    "        \n",
    "    def compute_fluxes(self, ts):\n",
    "        return PointLensModel.compute_fluxes_fn(ts, self.f0, self.t0, self.td, self.y)\n",
    "    \n",
    "    def guess_f0(ts, fluxes):\n",
    "        return np.min(fluxes)\n",
    "    \n",
    "    def guess_t0(ts, fluxes):\n",
    "        i = np.argmax(fluxes)\n",
    "        return ts[i]\n",
    "    \n",
    "    def guess_td(ts, fluxes):\n",
    "        f1 = np.max(fluxes)\n",
    "        f0 = np.min(fluxes)\n",
    "        fmid = (f1+f0)/2\n",
    "        valid_t = ts[fluxes>fmid]\n",
    "        return np.std(valid_t)\n",
    "    \n",
    "    def guess_y(ts, fluxes):\n",
    "        f1 = np.max(fluxes)\n",
    "        return 1.2/f1\n",
    "\n",
    "    def fit(self, ts, fluxes):\n",
    "        g_f0 = PointLensModel.guess_f0(ts, fluxes)\n",
    "        g_t0 = PointLensModel.guess_t0(ts, fluxes)\n",
    "        g_td = PointLensModel.guess_td(ts, fluxes)\n",
    "        g_y = PointLensModel.guess_y(ts, fluxes)\n",
    "        ret = minimize(PointLensModel.model_L2, [g_f0, g_t0, g_td, g_y], (ts, fluxes))\n",
    "        if not ret.success:\n",
    "            print(ret.message)\n",
    "            return\n",
    "        self.f0, self.t0, self.td, self.y = ret.x\n",
    "        print(ret.x)\n",
    "\n",
    "    \n",
    "    def mag2flux(mags):\n",
    "        return 10**((22.5 - mags)/2.5)\n",
    "    \n",
    "    def flux2mag(fluxes):\n",
    "        return 22.5 - 2.5*np.log10(fluxes)\n",
    "    \n",
    "    def plot_range(self, st, et, counts = 1000):\n",
    "        ts = np.linspace(st, et, counts)\n",
    "        fluxes = self.compute_fluxes(ts)\n",
    "        plt.plot(ts, fluxes)\n",
    "        plt.show()\n",
    "\n",
    "        \n",
    "    \n",
    "        "
   ]
  },
  {
   "cell_type": "code",
   "execution_count": 27,
   "id": "fd055367",
   "metadata": {},
   "outputs": [
    {
     "data": {
      "image/png": "[encoded data removed]",
      "text/plain": [
       "<Figure size 432x288 with 1 Axes>"
      ]
     },
     "metadata": {
      "needs_background": "light"
     },
     "output_type": "display_data"
    }
   ],
   "source": [
    "model = PointLensModel(3, 1, 2, 1)\n",
    "model.plot_range(-3, 3)"
   ]
  },
  {
   "cell_type": "code",
   "execution_count": 28,
   "id": "b33c2593",
   "metadata": {},
   "outputs": [
    {
     "data": {
      "image/png": "[encoded data removed]",
      "text/plain": [
       "<Figure size 432x288 with 1 Axes>"
      ]
     },
     "metadata": {
      "needs_background": "light"
     },
     "output_type": "display_data"
    }
   ],
   "source": [
    "ts = np.linspace(-3, 3, 20)\n",
    "fluxes = model.compute_fluxes(ts) + (np.random.rand((20))-0.5)/10\n",
    "plt.scatter(ts, fluxes)\n",
    "plt.show()"
   ]
  },
  {
   "cell_type": "code",
   "execution_count": 29,
   "id": "a1e55495",
   "metadata": {},
   "outputs": [
    {
     "name": "stdout",
     "output_type": "stream",
     "text": [
      "[3.00230292 1.0471731  2.02066627 1.00876482]\n"
     ]
    }
   ],
   "source": [
    "model.fit(ts, fluxes)"
   ]
  },
  {
   "cell_type": "code",
   "execution_count": 30,
   "id": "ad631860",
   "metadata": {},
   "outputs": [
    {
     "data": {
      "image/png": "[encoded data removed]",
      "text/plain": [
       "<Figure size 432x288 with 1 Axes>"
      ]
     },
     "metadata": {
      "needs_background": "light"
     },
     "output_type": "display_data"
    }
   ],
   "source": [
    "fluxes2 = model.compute_fluxes(ts)\n",
    "plt.plot(ts, fluxes2)\n",
    "plt.scatter(ts, fluxes)\n",
    "plt.show()"
   ]
  },
  {
   "cell_type": "code",
   "execution_count": 31,
   "id": "1d24b1c3",
   "metadata": {},
   "outputs": [
    {
     "data": {
      "text/plain": [
       "[]"
      ]
     },
     "execution_count": 31,
     "metadata": {},
     "output_type": "execute_result"
    },
    {
     "data": {
      "image/png": "[encoded data removed]",
      "text/plain": [
       "<Figure size 432x288 with 1 Axes>"
      ]
     },
     "metadata": {
      "needs_background": "light"
     },
     "output_type": "display_data"
    }
   ],
   "source": [
    "data = np.loadtxt('../data/phot.dat')[:, :2].transpose()\n",
    "ts = data[0]\n",
    "fluxes = PointLensModel.mag2flux(data[1])\n",
    "\n",
    "\n",
    "plt.scatter(ts, fluxes)\n",
    "plt.plot()\n"
   ]
  },
  {
   "cell_type": "code",
   "execution_count": 32,
   "id": "ea7aab86",
   "metadata": {},
   "outputs": [],
   "source": [
    "model = PointLensModel(0,0,0,0)"
   ]
  },
  {
   "cell_type": "code",
   "execution_count": 34,
   "id": "99356210",
   "metadata": {},
   "outputs": [
    {
     "name": "stdout",
     "output_type": "stream",
     "text": [
      "[4.17851146e+02 2.45781572e+06 3.04586488e+01 2.18861495e-01]\n",
      "383.0010812264479 2457814.83824 4.982566284471079 0.0006182743734981074\n"
     ]
    },
    {
     "data": {
      "image/png": "[encoded data removed]",
      "text/plain": [
       "<Figure size 432x288 with 1 Axes>"
      ]
     },
     "metadata": {
      "needs_background": "light"
     },
     "output_type": "display_data"
    }
   ],
   "source": [
    "plt.scatter(ts, fluxes)\n",
    "\n",
    "model.fit(ts, fluxes)\n",
    "print(PointLensModel.guess_f0(ts, fluxes), PointLensModel.guess_t0(ts, fluxes), PointLensModel.guess_td(ts, fluxes), PointLensModel.guess_y(ts, fluxes))\n",
    "fluxes2 = model.compute_fluxes(ts)\n",
    "plt.plot(ts, fluxes2)\n",
    "\n",
    "plt.show()"
   ]
  },
  {
   "cell_type": "code",
   "execution_count": null,
   "id": "304e416f",
   "metadata": {},
   "outputs": [],
   "source": []
  },
  {
   "cell_type": "code",
   "execution_count": null,
   "id": "2dd12e27",
   "metadata": {},
   "outputs": [],
   "source": []
  },
  {
   "cell_type": "code",
   "execution_count": null,
   "id": "15a5f77f",
   "metadata": {},
   "outputs": [],
   "source": []
  }
 ],
 "metadata": {
  "kernelspec": {
   "display_name": "Python 3 (ipykernel)",
   "language": "python",
   "name": "python3"
  },
  "language_info": {
   "codemirror_mode": {
    "name": "ipython",
    "version": 3
   },
   "file_extension": ".py",
   "mimetype": "text/x-python",
   "name": "python",
   "nbconvert_exporter": "python",
   "pygments_lexer": "ipython3",
   "version": "3.9.10"
  }
 },
 "nbformat": 4,
 "nbformat_minor": 5
}
